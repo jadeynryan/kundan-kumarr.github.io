{
  "cells": [
    {
      "cell_type": "markdown",
      "metadata": {},
      "source": [
        "---\n",
        "title: \"Scrolling\"\n",
        "format: \n",
        "  dashboard:\n",
        "    scrolling: true \n",
        "---"
      ],
      "id": "ef17928a"
    }
  ],
  "metadata": {
    "kernelspec": {
      "display_name": "Python 3",
      "language": "python",
      "name": "python3"
    }
  },
  "nbformat": 4,
  "nbformat_minor": 5
}